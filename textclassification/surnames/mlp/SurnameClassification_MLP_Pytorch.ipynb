{
  "nbformat": 4,
  "nbformat_minor": 0,
  "metadata": {
    "colab": {
      "provenance": [],
      "toc_visible": true,
      "gpuType": "T4"
    },
    "kernelspec": {
      "name": "python3",
      "display_name": "Python 3"
    },
    "language_info": {
      "name": "python"
    },
    "accelerator": "GPU"
  },
  "cells": [
    {
      "cell_type": "code",
      "source": [
        "!apt-get install graphviz\n",
        "!pip install torchview"
      ],
      "metadata": {
        "colab": {
          "base_uri": "https://localhost:8080/"
        },
        "id": "nNycBqeHOh8B",
        "outputId": "d5ad47b5-729b-42a2-8a8a-78fd073bdfc8"
      },
      "execution_count": 1,
      "outputs": [
        {
          "output_type": "stream",
          "name": "stdout",
          "text": [
            "Reading package lists... Done\n",
            "Building dependency tree... Done\n",
            "Reading state information... Done\n",
            "graphviz is already the newest version (2.42.2-6).\n",
            "0 upgraded, 0 newly installed, 0 to remove and 30 not upgraded.\n",
            "Collecting torchview\n",
            "  Downloading torchview-0.2.6-py3-none-any.whl (25 kB)\n",
            "Installing collected packages: torchview\n",
            "Successfully installed torchview-0.2.6\n"
          ]
        }
      ]
    },
    {
      "cell_type": "code",
      "source": [
        "import glob\n",
        "import unicodedata\n",
        "import string\n",
        "import requests\n",
        "import random\n",
        "import sys\n",
        "import torch\n",
        "from torch.autograd import Variable\n",
        "from torch import nn\n",
        "from torchview import draw_graph\n",
        "import random\n",
        "import time\n",
        "import math\n",
        "from torch.autograd import Variable\n",
        "import matplotlib.pyplot as plt\n",
        "import matplotlib.ticker as ticker"
      ],
      "metadata": {
        "id": "fHJ_8tEoBZcg"
      },
      "execution_count": 2,
      "outputs": []
    },
    {
      "cell_type": "markdown",
      "source": [
        "## Data Prep"
      ],
      "metadata": {
        "id": "Hv__pJonFThO"
      }
    },
    {
      "cell_type": "markdown",
      "source": [
        "### Download and Tensorify"
      ],
      "metadata": {
        "id": "mPh_6daagprR"
      }
    },
    {
      "cell_type": "code",
      "source": [
        "all_letters = string.ascii_letters + \" .,;'-\"\n",
        "n_letters = len(all_letters)\n",
        "print(n_letters)\n",
        "def findFiles(path): return glob.glob(path)\n",
        "\n",
        "# Turn a Unicode string to plain ASCII, thanks to http://stackoverflow.com/a/518232/2809427\n",
        "def unicodeToAscii(s):\n",
        "    return ''.join(\n",
        "        c for c in unicodedata.normalize('NFD', s)\n",
        "        if unicodedata.category(c) != 'Mn'\n",
        "        and c in all_letters\n",
        "    )\n",
        "\n",
        "# Read a file and split into lines\n",
        "def readLines(filename):\n",
        "    lines = open(filename, encoding='utf-8').read().strip().split('\\n')\n",
        "    return [unicodeToAscii(line) for line in lines]\n",
        "\n",
        "# Find letter index from all_letters, e.g. \"a\" = 0\n",
        "def letterToIndex(letter):\n",
        "    return all_letters.find(letter)\n",
        "\n",
        "# Turn a line into a <line_length x 1 x n_letters>,\n",
        "# or an array of one-hot letter vectors\n",
        "def lineToTensor(line):\n",
        "    tensor = torch.zeros(len(line), 1, n_letters)\n",
        "    for li, letter in enumerate(line):\n",
        "        tensor[li][0][letterToIndex(letter)] = 1 # one-hot-encoded representation\n",
        "    return tensor\n",
        "\n",
        "# Define the GitHub repository URL and branch\n",
        "github_url = 'https://api.github.com/repos/DrUzair/NLP/contents/data/names'\n",
        "branch = 'f8e0c40481b1c1e32440b1da39c8bdfc9f070ffa'\n",
        "\n",
        "# Initialize dictionaries to store data\n",
        "all_categories = []\n",
        "category_lines = {}\n",
        "\n",
        "# Make a request to the GitHub API to get the list of files in the directory\n",
        "response = requests.get(f'{github_url}?ref={branch}')\n",
        "\n",
        "if response.status_code == 200:\n",
        "    file_data = response.json()\n",
        "\n",
        "    for file_info in file_data:\n",
        "        if file_info['type'] == 'file' and file_info['name'].endswith('.txt'):\n",
        "            file_url = file_info['download_url']\n",
        "            category = file_info['name'].split('.')[0]\n",
        "\n",
        "            # Add the category to the list\n",
        "            all_categories.append(category)\n",
        "\n",
        "            # Make a request to download the file\n",
        "            file_response = requests.get(file_url)\n",
        "\n",
        "            if file_response.status_code == 200:\n",
        "                # Read and store the file content\n",
        "                lines = file_response.text.split('\\n')\n",
        "                category_lines[category] = lines\n",
        "            else:\n",
        "                print(f\"Failed to download file: {file_info['name']}\")\n",
        "else:\n",
        "    print(f\"Failed to retrieve file list from GitHub: {response.status_code}\")\n",
        "\n",
        "n_categories = len(all_categories)"
      ],
      "metadata": {
        "id": "5K2blrO9FXzd",
        "colab": {
          "base_uri": "https://localhost:8080/"
        },
        "outputId": "5aa90ab5-7227-4942-aaf1-990278de1daa"
      },
      "execution_count": 3,
      "outputs": [
        {
          "output_type": "stream",
          "name": "stdout",
          "text": [
            "58\n"
          ]
        }
      ]
    },
    {
      "cell_type": "code",
      "source": [
        "print(all_categories)\n",
        "print(len(all_categories))"
      ],
      "metadata": {
        "id": "i7R8Sx94HfwY",
        "colab": {
          "base_uri": "https://localhost:8080/"
        },
        "outputId": "91780876-fa48-44f6-8583-1dc5f9f3c4bb"
      },
      "execution_count": 4,
      "outputs": [
        {
          "output_type": "stream",
          "name": "stdout",
          "text": [
            "['Arabic', 'Chinese', 'Czech', 'Dutch', 'English', 'French', 'German', 'Greek', 'Irish', 'Italian', 'Japanese', 'Korean', 'Polish', 'Portuguese', 'Russian', 'Scottish', 'Spanish', 'Vietnamese']\n",
            "18\n"
          ]
        }
      ]
    },
    {
      "cell_type": "markdown",
      "source": [
        "### Estimate base-line error"
      ],
      "metadata": {
        "id": "Us-qvSIkgyoZ"
      }
    },
    {
      "cell_type": "markdown",
      "source": [
        "We have 18 classes.\n",
        "The cross-entropy of a random classifier with 18 classes can be calculated using the formula:\n",
        "\n",
        "$H(p,q)=−\\sum_xp(x)\\log⁡q(x)$\n",
        "\n",
        "\n",
        "where $p(x)$ is the true probability distribution and $q(x)$ is the predicted probability distribution.\n",
        "\n",
        "- In the case of a random classifier, the predicted probability distribution is uniform, i.e., $q(x) = 1/18$ for all $x$.\n",
        "\n",
        "- In the context of classification, the true probability distribution is typically represented as a one-hot vector, where the probability of the true class is 1 and the probabilities of all other classes are 0. In this case, the true probability distribution would be a one-hot vector with 1 in one of the 18 positions and 0 in all other positions. In this case, $p(x) = 1$ for the true class and $p(x) = 0$ for all other classes.\n",
        "\n",
        "Substituting these values, the summation in the formula reduces to:\n",
        "\n",
        "$H(p,q)=−\\sum_xp(x)\\log⁡q(x)=−\\log⁡q(x)=−log⁡\\frac{1}{18}=\\log18≈2.89$"
      ],
      "metadata": {
        "id": "YaXdlpDUzA3E"
      }
    },
    {
      "cell_type": "code",
      "source": [
        "category_lines['Arabic']"
      ],
      "metadata": {
        "id": "1pA3q4QTGBqN"
      },
      "execution_count": null,
      "outputs": []
    },
    {
      "cell_type": "markdown",
      "source": [
        "### randomTrainingExample"
      ],
      "metadata": {
        "id": "Bpnocp7VA0Nc"
      }
    },
    {
      "cell_type": "code",
      "source": [
        "def randomTrainingExample():\n",
        "    category = all_categories[random.randint(0, len(all_categories) - 1)]\n",
        "    category_names = category_lines[category]\n",
        "    name = category_names[random.randint(0, len(category_names) - 1)]\n",
        "    category_tensor = Variable(torch.LongTensor([all_categories.index(category)]))\n",
        "    name_tensor = Variable(lineToTensor(name))\n",
        "    return category, name, category_tensor, name_tensor\n",
        "\n",
        "category, name, category_tensor, name_tensor = randomTrainingExample()\n",
        "print('category =', category, '/ name =', name, 'name_tensor shape', name_tensor.shape)"
      ],
      "metadata": {
        "id": "Bng8JZYDKMA8",
        "colab": {
          "base_uri": "https://localhost:8080/"
        },
        "outputId": "60c4ff6e-348f-4357-a195-9f56efd380b1"
      },
      "execution_count": 6,
      "outputs": [
        {
          "output_type": "stream",
          "name": "stdout",
          "text": [
            "category = English / name = Travers name_tensor shape torch.Size([7, 1, 58])\n"
          ]
        }
      ]
    },
    {
      "cell_type": "markdown",
      "source": [
        "## Define Model"
      ],
      "metadata": {
        "id": "AoTqaE4vFb-y"
      }
    },
    {
      "cell_type": "markdown",
      "source": [
        "This class defines a simple Multilayer Perceptron (MLP) neural network using PyTorch's `nn.Module` module. An MLP is a type of feedforward neural network, consisting of multiple layers of nodes (neurons), each connected to the next layer. The class is defined in Python and utilizes the PyTorch library.\n",
        "\n",
        "Let's break down the key components of this class:\n",
        "\n",
        "1. **Constructor (`__init__`) method:**\n",
        "   - It takes three parameters: `input_dim`, `hidden_dim`, and `output_dim`, representing the dimensions of the input, hidden, and output layers, respectively.\n",
        "   - Initializes three linear layers (`nn.Linear`): `fc1`, `fc2`, and `softmax`.\n",
        "     - `fc1`: First fully connected (linear) layer mapping input_dim to hidden_dim.\n",
        "     - `fc2`: Second fully connected (linear) layer mapping hidden_dim to output_dim.\n",
        "     - `softmax`: Log-softmax activation function applied along dimension 1 (usually used for classification problems).\n",
        "\n",
        "2. **Forward method (`forward`):**\n",
        "   - It defines the forward pass of the network, describing how input data moves through the layers.\n",
        "   - Takes an input tensor `x_in` of shape (batch_size, input_dim).\n",
        "   - Applies the first linear layer (`fc1`) followed by a Rectified Linear Unit (ReLU) activation function (`F.relu`).\n",
        "   - Applies the second linear layer (`fc2`) followed by another ReLU activation.\n",
        "   - Applies the log-softmax activation (`softmax`) on the output.\n",
        "   - Returns the final output tensor.\n",
        "\n",
        "In summary, this MLP consists of an input layer (`fc1`), a hidden layer with a ReLU activation, and an output layer (`fc2`) with a log-softmax activation. The goal is to map input data (name) to a probability distribution over different classes (name language).\n",
        "\n",
        "- Note that for binary classification, the output_dim would typically be set to 1, and a sigmoid activation might be used instead of softmax."
      ],
      "metadata": {
        "id": "O9L08pC4tBbX"
      }
    },
    {
      "cell_type": "code",
      "source": [
        "from torch import nn, sigmoid\n",
        "import torch.nn.functional as F\n",
        "\n",
        "class MultilayerPerceptron(nn.Module):\n",
        "    def __init__(self, input_dim, hidden_dim, output_dim):\n",
        "        \"\"\"\n",
        "        Args:\n",
        "            input_dim (int): the size of the input vectors\n",
        "            hidden_dim (int): the output size of the first Linear layer\n",
        "            output_dim (int): the output size of the output Linear layer\n",
        "        \"\"\"\n",
        "        super(MultilayerPerceptron, self).__init__()\n",
        "        self.fc1 = nn.Linear(input_dim, hidden_dim)\n",
        "        self.fc2 = nn.Linear(hidden_dim, output_dim)\n",
        "        self.softmax = nn.LogSoftmax(dim=1)\n",
        "\n",
        "    def forward(self, x_in):\n",
        "        \"\"\"The forward pass of the MLP\n",
        "\n",
        "        Args:\n",
        "            x_in (torch.Tensor): an input data tensor\n",
        "                x_in.shape should be (batch, input_dim)\n",
        "        Returns:\n",
        "            the resulting tensor. tensor.\n",
        "        \"\"\"\n",
        "        hidden = F.relu(self.fc1(x_in))\n",
        "        output = F.relu(self.fc2(hidden))\n",
        "        output = self.softmax(output)\n",
        "        return output"
      ],
      "metadata": {
        "id": "PXg4jkObFfAn"
      },
      "execution_count": 7,
      "outputs": []
    },
    {
      "cell_type": "markdown",
      "source": [
        "## Training"
      ],
      "metadata": {
        "id": "DhDu1Q4zFLfK"
      }
    },
    {
      "cell_type": "markdown",
      "source": [
        "### categoryFromOutput"
      ],
      "metadata": {
        "id": "AYzXnTGuJ5MI"
      }
    },
    {
      "cell_type": "markdown",
      "source": [
        "The function `categoryFromOutput(output)` is a utility function that takes the output tensor from the neural network and returns the predicted category.\n",
        "\n",
        "- **Input:**\n",
        "  - `output`: The output tensor from the neural network. It is assumed to be a PyTorch tensor.\n",
        "\n",
        "- **Processing:**\n",
        "  - `output.data`: Accesses the underlying tensor of the `output` variable.\n",
        "  - `topk(1)`: Returns the indices of the top `k` elements along a specified dimension. In this case, it finds the index of the maximum element along dimension 1 (which typically corresponds to the classes in a classification problem).\n",
        "  - `top_n, top_i`: Unpacks the result of `topk(1)`. `top_n` is the maximum value, and `top_i` is the index of the maximum value.\n",
        "\n",
        "- **Output:**\n",
        "  - `category_i`: Extracts the actual index of the predicted category from `top_i`.\n",
        "  - `all_categories[category_i]`: Uses the index to look up the corresponding category label in the `all_categories` list.\n",
        "  - Returns a tuple containing the predicted category label and its index.\n",
        "\n",
        "`all_categories` is a list containing the category labels, and this function provides a convenient way to obtain the predicted category and its index from the network's output."
      ],
      "metadata": {
        "id": "aXpwNv2GtPs-"
      }
    },
    {
      "cell_type": "code",
      "source": [
        "def categoryFromOutput(output):\n",
        "    top_n, top_i = output.data.topk(1)  # Tensor out of Variable with .data\n",
        "    category_i = top_i[0][0]\n",
        "    return all_categories[category_i], category_i"
      ],
      "metadata": {
        "id": "jd5Hah9CJ3zT"
      },
      "execution_count": 8,
      "outputs": []
    },
    {
      "cell_type": "markdown",
      "source": [
        "### Initialize model"
      ],
      "metadata": {
        "id": "0y4L2Jn_uLrx"
      }
    },
    {
      "cell_type": "code",
      "source": [
        "n_hidden = 174\n",
        "mlp = MultilayerPerceptron(input_dim=n_letters, hidden_dim=n_hidden, output_dim=n_categories)\n",
        "#model_graph = draw_graph(mlp, input_size=(1, 58), device='meta')\n",
        "#model_graph.visual_graph"
      ],
      "metadata": {
        "id": "agMouBvHOPcx"
      },
      "execution_count": 9,
      "outputs": []
    },
    {
      "cell_type": "code",
      "execution_count": 10,
      "metadata": {
        "id": "TzrnLhVUDo-r"
      },
      "outputs": [],
      "source": [
        "learning_rate = 0.05 # If you set this too high, it might explode. If too low, it might not learn\n",
        "optimizer = torch.optim.SGD(mlp.parameters(), lr=learning_rate)\n",
        "criterion = nn.NLLLoss()\n",
        "\n",
        "\n",
        "def train(category_tensor, name_tensor):\n",
        "    # step 1. zero the gradients\n",
        "    optimizer.zero_grad()\n",
        "\n",
        "    # step 2. compute the output\n",
        "    output = mlp(name_tensor)\n",
        "\n",
        "    # step 3. The loss is computed using\n",
        "    loss = criterion(output, category_tensor)\n",
        "\n",
        "    # step 4. The gradients of the loss are computed using\n",
        "    loss.backward()\n",
        "\n",
        "    # step 5. The weights of the MLP are updated using\n",
        "    optimizer.step()\n",
        "\n",
        "    return output, loss.item()"
      ]
    },
    {
      "cell_type": "markdown",
      "source": [
        "### training loop"
      ],
      "metadata": {
        "id": "pTSA7VZsuU8h"
      }
    },
    {
      "cell_type": "markdown",
      "source": [
        "1. The for loop iterates over a range of values from 1 to n_epochs + 1. In each iteration of the loop, a random training example is selected using the randomTrainingExample() function. This function returns the category and name of a random training example, as well as the corresponding category tensor and line tensor.\n",
        "    \n",
        "2. The name_tensor is a tensor representation of the name, and tensor_1d is a 1-dimensional tensor obtained by summing the line_tensor along the first dimension.\n",
        "\n",
        "3. The train() function is called with the category_tensor and tensor_1d as inputs. This function returns the output of the model and the loss.\n",
        "4. The current_loss variable is updated with the loss from the current iteration.\n",
        "- If the current iteration is a multiple of print_every, the epoch number, loss, name, and guess are printed to the console. The guess is the predicted category for the current name, and correct is a string indicating whether the prediction was correct or not.\n",
        "- If the current iteration is a multiple of plot_every, the current loss average is added to the list of losses, and current_loss is reset to 0.\n"
      ],
      "metadata": {
        "id": "DHI7JGwx6C7X"
      }
    },
    {
      "cell_type": "code",
      "source": [
        "# Keep track of losses for plotting\n",
        "current_loss = 0\n",
        "all_losses = []\n",
        "\n",
        "n_epochs = 100000\n",
        "print_every = 5000\n",
        "plot_every = 1000\n",
        "def timeSince(since):\n",
        "    now = time.time()\n",
        "    s = now - since\n",
        "    m = math.floor(s / 60)\n",
        "    s -= m * 60\n",
        "    return '%dm %ds' % (m, s)\n",
        "\n",
        "\n",
        "start = time.time()\n",
        "\n",
        "for epoch in range(1, n_epochs + 1):\n",
        "    category, name, category_tensor, name_tensor = randomTrainingExample()\n",
        "    name_tensor = name_tensor.sum(0)\n",
        "    output, loss = train(category_tensor, name_tensor)\n",
        "    current_loss += loss\n",
        "    # Print epoch number, loss, name and guess\n",
        "    if epoch % print_every == 0:\n",
        "        guess, guess_i = categoryFromOutput(output)\n",
        "        correct = '✓' if guess == category else '✗ (%s)' % category\n",
        "        print('%d %d%% (%s) %.4f %s / %s %s' % (\n",
        "        epoch, epoch / n_epochs * 100, timeSince(start), loss, name, guess, correct))\n",
        "\n",
        "    # Add current loss avg to list of losses\n",
        "    if epoch % plot_every == 0:\n",
        "        all_losses.append(current_loss / plot_every)\n",
        "        current_loss = 0\n",
        "\n",
        "torch.save(mlp, 'name-classifier.pt')\n",
        "\n",
        "print(all_losses)\n",
        "plt.figure()\n",
        "plt.plot(all_losses)"
      ],
      "metadata": {
        "colab": {
          "base_uri": "https://localhost:8080/",
          "height": 839
        },
        "id": "eTp_luUCCMnA",
        "outputId": "6354bac4-2508-455f-98ed-1e741e3b0baa"
      },
      "execution_count": 11,
      "outputs": [
        {
          "output_type": "stream",
          "name": "stdout",
          "text": [
            "5000 5% (0m 4s) 3.5021 Havlatova / Spanish ✗ (Czech)\n",
            "10000 10% (0m 8s) 2.5231 Ngo / Korean ✗ (Vietnamese)\n",
            "15000 15% (0m 12s) 3.0103 Félix / Irish ✗ (French)\n",
            "20000 20% (0m 16s) 0.0219 Momotami / Japanese ✓\n",
            "25000 25% (0m 21s) 3.5324 Hynna / Irish ✗ (Czech)\n",
            "30000 30% (0m 25s) 0.8241 Ortega / Spanish ✓\n",
            "35000 35% (0m 29s) 1.5866 Deforest / German ✗ (French)\n",
            "40000 40% (0m 33s) 0.1675 Rompa / Dutch ✓\n",
            "45000 45% (0m 37s) 4.4651 Miksatkova / Russian ✗ (Czech)\n",
            "50000 50% (0m 41s) 0.0454 Kuai / Chinese ✓\n",
            "55000 55% (0m 46s) 1.5685 Liatos / Spanish ✗ (Greek)\n",
            "60000 60% (0m 50s) 1.4144 Nunes / Portuguese ✓\n",
            "65000 65% (0m 54s) 2.2012 Pugliese / Greek ✗ (Italian)\n",
            "70000 70% (0m 58s) 0.2067 Demas / Greek ✓\n",
            "75000 75% (1m 3s) 0.7427 Baitchenko / Russian ✓\n",
            "80000 80% (1m 7s) 0.0257 Babaev / Russian ✓\n",
            "85000 85% (1m 11s) 1.2436 Vargas / Spanish ✗ (Portuguese)\n",
            "90000 90% (1m 15s) 0.0292 Ryom / Korean ✓\n",
            "95000 95% (1m 19s) 0.0002 Warszawski / Polish ✓\n",
            "100000 100% (1m 24s) 0.5284 Hébert / French ✓\n",
            "[2.8412782697975634, 2.6662898232229053, 2.583482902010437, 2.545330308938399, 2.481260930067394, 2.3653841006224976, 2.3896939028333875, 2.4375087750292734, 2.4266310572876826, 2.3304361124691786, 2.2816289465760056, 2.2739393977597357, 2.2436656373039003, 2.2216829260677913, 2.1470270667461153, 2.1280657283582043, 2.0243964008659385, 1.9945276510013445, 2.036847069947763, 2.023263210227509, 1.9519469567023189, 1.9945125903809604, 1.9132017371052716, 1.9062149415426384, 1.7866588911345753, 1.6550735964327226, 1.6816400698055514, 1.7316097972640419, 1.6621339669781128, 1.6497818829154995, 1.5490167989928723, 1.5600703416508404, 1.5244322795870848, 1.5149732694434657, 1.4773636643313461, 1.5260952054605879, 1.513521397043485, 1.4853870564214442, 1.5085982022031472, 1.468242741715525, 1.5848199908680112, 1.4160503322491378, 1.499267278341653, 1.4313507111397747, 1.3249003440089517, 1.3827754697347527, 1.259085302413138, 1.2707126610969788, 1.2289313561663697, 1.1800944713636767, 1.1324546653406655, 1.1824855448683218, 1.1564147866532586, 1.1487410784450258, 1.1486051185647348, 1.0902205290482798, 1.1531916309111814, 1.01475518597739, 1.1292206606368882, 1.0260755925839584, 1.062548497804017, 1.0689903442161623, 1.0215112975870677, 1.0347102340574883, 1.0929356803169112, 1.064763458338553, 1.0152777572495795, 0.9966255853992222, 1.0719908549677244, 1.0833152643509678, 1.0433581399526533, 1.0645132162136728, 1.0117397514300912, 1.005774040685457, 0.9522562462241431, 0.9294264196092195, 0.9444369896195525, 1.00214993531014, 0.9755709251908878, 1.0894997221263139, 0.9921311195989299, 0.9539507989454135, 0.9106658268624542, 0.9498443343353338, 0.9458863037645465, 0.9177601757569958, 0.9460576224108516, 0.9203319467937383, 0.9511976888057131, 0.9072827608000673, 0.8647427319914303, 0.9038084746617259, 0.9370035982577163, 0.9627532321289844, 0.8829609841596822, 0.9547817348016584, 0.9074051069443799, 0.9025351820508963, 0.9684250641923013, 0.8935946811731981]\n"
          ]
        },
        {
          "output_type": "execute_result",
          "data": {
            "text/plain": [
              "[<matplotlib.lines.Line2D at 0x7ec8180f3910>]"
            ]
          },
          "metadata": {},
          "execution_count": 11
        },
        {
          "output_type": "display_data",
          "data": {
            "text/plain": [
              "<Figure size 640x480 with 1 Axes>"
            ],
            "image/png": "[encoded data removed]"
          },
          "metadata": {}
        }
      ]
    },
    {
      "cell_type": "markdown",
      "source": [
        "## Evaluate"
      ],
      "metadata": {
        "id": "yi-YTdS3IvSB"
      }
    },
    {
      "cell_type": "code",
      "source": [
        "import torch\n",
        "import matplotlib.pyplot as plt\n",
        "import matplotlib.ticker as ticker\n",
        "\n",
        "#mlp = torch.load('./name-classifier.pt')\n",
        "\n",
        "# Keep track of correct guesses in a confusion matrix\n",
        "confusion = torch.zeros(n_categories, n_categories)\n",
        "n_confusion = 10000 # This is the number of examples that will be used to evaluate the performance of the model.\n",
        "\n",
        "# Go through a bunch of examples and record which are correctly guessed\n",
        "for i in range(n_confusion):\n",
        "    category, name, category_tensor, name_tensor = randomTrainingExample()\n",
        "    name_tensor = name_tensor.sum(0)\n",
        "    if len(name) > 0:\n",
        "      #print(name_tensor.shape)\n",
        "      output = mlp(name_tensor)\n",
        "      guess, guess_i = categoryFromOutput(output)\n",
        "      #print(category, name, guess)\n",
        "      category_i = all_categories.index(category)\n",
        "      confusion[category_i][guess_i] += 1\n",
        "    else:\n",
        "      continue\n",
        "      # print(category, name)\n",
        "\n",
        "# Normalize by dividing every row by its sum\n",
        "for i in range(n_categories):\n",
        "    confusion[i] = confusion[i] / confusion[i].sum()\n",
        "\n",
        "# Set up plot\n",
        "fig = plt.figure()\n",
        "ax = fig.add_subplot(111)\n",
        "cax = ax.matshow(confusion.numpy())\n",
        "fig.colorbar(cax)\n",
        "\n",
        "# Set up axes\n",
        "ax.set_xticklabels([''] + all_categories, rotation=90)\n",
        "ax.set_yticklabels([''] + all_categories)\n",
        "\n",
        "# Force label at every tick\n",
        "ax.xaxis.set_major_locator(ticker.MultipleLocator(1))\n",
        "ax.yaxis.set_major_locator(ticker.MultipleLocator(1))\n",
        "\n",
        "# sphinx_gallery_thumbnail_number = 2\n",
        "plt.show()"
      ],
      "metadata": {
        "id": "YJ20GBKgI0M3",
        "colab": {
          "base_uri": "https://localhost:8080/",
          "height": 577
        },
        "outputId": "266696ae-893d-492c-a449-b5b48bd9688d"
      },
      "execution_count": 12,
      "outputs": [
        {
          "output_type": "stream",
          "name": "stderr",
          "text": [
            "<ipython-input-12-ce8188bab30a>:37: UserWarning: FixedFormatter should only be used together with FixedLocator\n",
            "  ax.set_xticklabels([''] + all_categories, rotation=90)\n",
            "<ipython-input-12-ce8188bab30a>:38: UserWarning: FixedFormatter should only be used together with FixedLocator\n",
            "  ax.set_yticklabels([''] + all_categories)\n"
          ]
        },
        {
          "output_type": "display_data",
          "data": {
            "text/plain": [
              "<Figure size 640x480 with 2 Axes>"
            ],
            "image/png": "[encoded data removed]"
          },
          "metadata": {}
        }
      ]
    },
    {
      "cell_type": "markdown",
      "source": [
        "## Predict"
      ],
      "metadata": {
        "id": "malJZFzjf8Ik"
      }
    },
    {
      "cell_type": "code",
      "source": [
        "mlp = torch.load('name-classifier.pt')\n",
        "\n",
        "def predict(line, n_predictions=3):\n",
        "    output = mlp(Variable(lineToTensor(line).sum(0)))\n",
        "\n",
        "    # Get top N categories\n",
        "    topv, topi = output.data.topk(n_predictions, 1, True)\n",
        "    predictions = []\n",
        "\n",
        "    for i in range(n_predictions):\n",
        "        value = topv[0][i]\n",
        "        category_index = topi[0][i]\n",
        "        print('(%.2f) %s' % (value, all_categories[category_index]))\n",
        "        predictions.append([value, all_categories[category_index]])\n",
        "\n",
        "    return predictions\n",
        "\n",
        "\n",
        "if __name__ == '__main__':\n",
        "    predict('Uzair')\n"
      ],
      "metadata": {
        "id": "gt2mCSrZf9sV",
        "colab": {
          "base_uri": "https://localhost:8080/"
        },
        "outputId": "970472ac-79a4-46dc-bdf6-fcb8237a80fe"
      },
      "execution_count": 32,
      "outputs": [
        {
          "output_type": "stream",
          "name": "stdout",
          "text": [
            "(-0.49) Spanish\n",
            "(-1.96) Italian\n",
            "(-2.18) Czech\n"
          ]
        }
      ]
    }
  ]
}