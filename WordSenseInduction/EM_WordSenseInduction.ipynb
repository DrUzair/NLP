{
  "nbformat": 4,
  "nbformat_minor": 0,
  "metadata": {
    "colab": {
      "provenance": []
    },
    "kernelspec": {
      "name": "python3",
      "display_name": "Python 3"
    },
    "language_info": {
      "name": "python"
    }
  },
  "cells": [
    {
      "cell_type": "code",
      "source": [
        "import numpy as np\n",
        "from collections import defaultdict\n",
        "\n",
        "# Example dataset\n",
        "dataset = [\n",
        "    # Sports-related sentences\n",
        "    \"The soccer team scored a goal in the final minute of the game.\",\n",
        "    \"The basketball player set a new scoring record in yesterday's game.\",\n",
        "    \"The hockey goalie's quick reflexes prevented a goal in the crucial game.\",\n",
        "    \"The baseball pitcher's aim was to strike out the opponent and win the game.\",\n",
        "    \"The football coach praised the team's defensive positions during the game.\",\n",
        "\n",
        "    # Political-related sentences\n",
        "    \"The politician outlined his economic goals for the upcoming term.\",\n",
        "    \"The party leader set a new fundraising record for the campaign.\",\n",
        "    \"The government's policies put it in a vulnerable position in the international arena.\",\n",
        "    \"The president's speech during the rally set the tone for the political game ahead.\",\n",
        "    \"The diplomat's strategic positioning helped in negotiating a peace treaty.\",\n",
        "]\n",
        "\n",
        "\n",
        "\n",
        "# Tokenize the dataset\n",
        "tokenized_dataset = [doc.lower().split() for doc in dataset]\n",
        "\n",
        "# Extract unique words\n",
        "unique_words = set(word for doc in tokenized_dataset for word in doc)"
      ],
      "metadata": {
        "id": "FXEyp8z8T4bo"
      },
      "execution_count": 77,
      "outputs": []
    },
    {
      "cell_type": "markdown",
      "source": [
        "The `np.random.dirichlet(np.ones(2))` generates a random probability vector of length 2 where each component is between 0 and 1 and sums to 1. The Dirichlet distribution is flexible and commonly used in various statistical applications, including Bayesian modeling and natural language processing."
      ],
      "metadata": {
        "id": "NjqmtOEqghoh"
      }
    },
    {
      "cell_type": "code",
      "source": [
        "np.random.dirichlet(np.ones(2))"
      ],
      "metadata": {
        "colab": {
          "base_uri": "https://localhost:8080/"
        },
        "id": "eEfOG8u4gCB5",
        "outputId": "370fff1f-eadb-4493-e2dd-9f5f49f23def"
      },
      "execution_count": 64,
      "outputs": [
        {
          "output_type": "execute_result",
          "data": {
            "text/plain": [
              "array([0.79530887, 0.20469113])"
            ]
          },
          "metadata": {},
          "execution_count": 64
        }
      ]
    },
    {
      "cell_type": "markdown",
      "source": [
        "  1.  Initialization of Number of Senses (num_senses):\n",
        "    \n",
        "      `num_senses` = 2: This variable determines the number of senses or meanings that each word can have. In this case, each word is assumed to have two distinct senses. However, you can adjust num_senses to any desired number based on the context or requirements of your task.\n",
        "\n",
        "  2. Initialization of Word Senses (word_senses):\n",
        "     \n",
        "     `word_senses`: This dictionary stores the sense probabilities for each unique word in the dataset. Each word is associated with a list of probabilities representing the likelihood of each sense.\n",
        "        unique_words: This variable presumably contains a list of unique words extracted from the dataset.\n",
        "\n",
        "  3.  Initialization of Sense Probabilities:\n",
        "    \n",
        "      `np.random.dirichlet(np.ones(num_senses))`: This part of the code generates random sense probabilities for each word using the Dirichlet distribution.\n",
        "      \n",
        "        `np.ones(num_senses)`: This creates an array of ones with a length equal to num_senses. The ones serve as the concentration parameters for the Dirichlet distribution, ensuring a uniform distribution of probabilities initially.\n",
        "      \n",
        "        `np.random.dirichlet()`: This function generates random samples from a Dirichlet distribution, which is commonly used for modeling proportions or distributions over a finite number of categories."
      ],
      "metadata": {
        "id": "uYH23jDUncmm"
      }
    },
    {
      "cell_type": "code",
      "source": [
        "# Initialize word senses randomly\n",
        "num_senses = 2\n",
        "word_senses = {word: np.random.dirichlet(np.ones(num_senses)) for word in unique_words}\n",
        "\n",
        "word_senses"
      ],
      "metadata": {
        "colab": {
          "base_uri": "https://localhost:8080/"
        },
        "id": "zoKzxXPDfzPK",
        "outputId": "e422907d-b97a-4074-c482-9f9f1e6048d9"
      },
      "execution_count": 78,
      "outputs": [
        {
          "output_type": "execute_result",
          "data": {
            "text/plain": [
              "{'record': array([0.16276114, 0.83723886]),\n",
              " 'team': array([0.2314761, 0.7685239]),\n",
              " 'scored': array([0.86932083, 0.13067917]),\n",
              " 'upcoming': array([0.12914619, 0.87085381]),\n",
              " 'negotiating': array([0.45671554, 0.54328446]),\n",
              " 'economic': array([0.32690611, 0.67309389]),\n",
              " 'hockey': array([0.96831903, 0.03168097]),\n",
              " 'strategic': array([9.15179135e-04, 9.99084821e-01]),\n",
              " 'defensive': array([0.11834802, 0.88165198]),\n",
              " 'positioning': array([0.76436823, 0.23563177]),\n",
              " 'set': array([0.36670223, 0.63329777]),\n",
              " \"pitcher's\": array([0.82955365, 0.17044635]),\n",
              " \"yesterday's\": array([0.96744701, 0.03255299]),\n",
              " 'party': array([0.42360418, 0.57639582]),\n",
              " \"government's\": array([0.30940678, 0.69059322]),\n",
              " 'put': array([0.04627626, 0.95372374]),\n",
              " 'out': array([0.17395369, 0.82604631]),\n",
              " 'international': array([0.57583114, 0.42416886]),\n",
              " \"president's\": array([0.99792389, 0.00207611]),\n",
              " 'in': array([0.42025545, 0.57974455]),\n",
              " 'and': array([0.05097646, 0.94902354]),\n",
              " 'politician': array([0.30191334, 0.69808666]),\n",
              " 'football': array([0.40763013, 0.59236987]),\n",
              " 'game.': array([0.2872482, 0.7127518]),\n",
              " 'leader': array([0.32200841, 0.67799159]),\n",
              " 'rally': array([0.26262097, 0.73737903]),\n",
              " 'treaty.': array([0.62651679, 0.37348321]),\n",
              " 'the': array([0.06030191, 0.93969809]),\n",
              " \"diplomat's\": array([0.93301863, 0.06698137]),\n",
              " 'policies': array([0.20855282, 0.79144718]),\n",
              " 'crucial': array([0.28204594, 0.71795406]),\n",
              " 'was': array([0.73414987, 0.26585013]),\n",
              " 'opponent': array([0.58349842, 0.41650158]),\n",
              " 'vulnerable': array([0.91032588, 0.08967412]),\n",
              " 'arena.': array([0.28825728, 0.71174272]),\n",
              " 'strike': array([0.4222588, 0.5777412]),\n",
              " \"goalie's\": array([0.0440392, 0.9559608]),\n",
              " 'baseball': array([0.60077746, 0.39922254]),\n",
              " 'position': array([0.58313156, 0.41686844]),\n",
              " 'final': array([0.52444613, 0.47555387]),\n",
              " 'tone': array([0.44945388, 0.55054612]),\n",
              " 'win': array([0.79482127, 0.20517873]),\n",
              " 'fundraising': array([0.63326118, 0.36673882]),\n",
              " 'goal': array([0.30653616, 0.69346384]),\n",
              " 'game': array([0.39168629, 0.60831371]),\n",
              " 'his': array([0.190407, 0.809593]),\n",
              " 'helped': array([0.14940937, 0.85059063]),\n",
              " 'it': array([0.48790927, 0.51209073]),\n",
              " 'aim': array([0.66003708, 0.33996292]),\n",
              " 'campaign.': array([0.38218344, 0.61781656]),\n",
              " 'a': array([0.31944421, 0.68055579]),\n",
              " 'player': array([0.58218682, 0.41781318]),\n",
              " 'minute': array([0.01643543, 0.98356457]),\n",
              " 'quick': array([0.6398218, 0.3601782]),\n",
              " 'new': array([0.08891622, 0.91108378]),\n",
              " 'soccer': array([0.80628773, 0.19371227]),\n",
              " 'of': array([0.65167732, 0.34832268]),\n",
              " 'prevented': array([0.07797128, 0.92202872]),\n",
              " 'praised': array([0.25203367, 0.74796633]),\n",
              " 'coach': array([0.56702512, 0.43297488]),\n",
              " 'speech': array([0.27691289, 0.72308711]),\n",
              " 'political': array([0.83239732, 0.16760268]),\n",
              " 'scoring': array([0.29785407, 0.70214593]),\n",
              " \"team's\": array([0.34227396, 0.65772604]),\n",
              " 'outlined': array([0.19830614, 0.80169386]),\n",
              " 'for': array([0.79386772, 0.20613228]),\n",
              " 'reflexes': array([0.30536869, 0.69463131]),\n",
              " 'basketball': array([0.63801971, 0.36198029]),\n",
              " 'ahead.': array([0.44991553, 0.55008447]),\n",
              " 'positions': array([0.46282394, 0.53717606]),\n",
              " 'to': array([0.63083409, 0.36916591]),\n",
              " 'term.': array([0.26796625, 0.73203375]),\n",
              " 'goals': array([0.32799373, 0.67200627]),\n",
              " 'during': array([0.94100267, 0.05899733]),\n",
              " 'peace': array([0.67941786, 0.32058214])}"
            ]
          },
          "metadata": {},
          "execution_count": 78
        }
      ]
    },
    {
      "cell_type": "markdown",
      "source": [
        "#  EM Algorithm\n",
        "  1.  Initialization of Parameters:\n",
        "        max_iterations = 100: This variable sets the maximum number of iterations for the EM algorithm. It controls how many times the algorithm will iteratively update the parameters to refine the word sense estimates.\n",
        "\n",
        "  2.  EM Algorithm:\n",
        "        The code iterates through the EM algorithm for a maximum of max_iterations times.\n",
        "        E-step (Expectation Step):In the E-step, the algorithm computes the expected values of the latent variables given the observed data and the current parameter estimates.\n",
        "        Here, word_sense_counts is a defaultdict initialized to contain arrays of zeros, each of length num_senses.\n",
        "        It calculates the expected count of each word belonging to each sense.\n",
        "  3.  M-step (Maximization Step):\n",
        "      In the M-step, the algorithm updates the parameters to maximize the expected log-likelihood obtained from the E-step.\n",
        "      It updates the word sense probabilities based on the counts obtained in the E-step.\n",
        "      These steps are repeated for each iteration until convergence, or until the maximum number of iterations is reached.\n",
        "\n",
        "  4. Interpreting Word Senses:\n",
        "        After completing the EM algorithm, the code prints out the senses inferred for each word.\n",
        "        It iterates through each unique word in the dataset and prints the sense probabilities associated with that word."
      ],
      "metadata": {
        "id": "Zvg1hbTQnzJE"
      }
    },
    {
      "cell_type": "markdown",
      "source": [],
      "metadata": {
        "id": "tAimooFtnzHI"
      }
    },
    {
      "cell_type": "code",
      "source": [
        "# Maximum number of iterations for the EM algorithm\n",
        "max_iterations = 100\n",
        "\n",
        "# EM algorithm\n",
        "for iteration in range(max_iterations):\n",
        "    # E-step\n",
        "    word_sense_counts = defaultdict(lambda: np.zeros(num_senses))\n",
        "    for doc in tokenized_dataset:\n",
        "        for word in doc:\n",
        "            word_prob = word_senses[word]\n",
        "            word_sense_counts[word] += word_prob / np.sum(word_prob)\n",
        "\n",
        "    # M-step\n",
        "    for word in unique_words:\n",
        "        word_senses[word] = word_sense_counts[word] / np.sum(word_sense_counts[word])\n",
        "\n",
        "# Interpret the senses for each word\n",
        "for word in unique_words:\n",
        "    print(f\"Word '{word}' has senses: {word_senses[word]}\")"
      ],
      "metadata": {
        "id": "RXxoWzX6fy-z"
      },
      "execution_count": null,
      "outputs": []
    },
    {
      "cell_type": "markdown",
      "source": [
        "# Visualize"
      ],
      "metadata": {
        "id": "BhFOuKOhoT9N"
      }
    },
    {
      "cell_type": "code",
      "source": [
        "import matplotlib.pyplot as plt\n",
        "\n",
        "# Words of interest\n",
        "words_of_interest = [\"goal\", \"game\", \"record\", \"position\", \"strike\", \"party\"]\n",
        "\n",
        "# Extract sense vectors for each word\n",
        "word_vectors = {word: word_senses[word] for word in words_of_interest}\n",
        "\n",
        "# Plot the sense vectors\n",
        "plt.figure(figsize=(15, 7))\n",
        "for word, vector in word_vectors.items():\n",
        "    plt.scatter(vector[0], vector[1])\n",
        "    plt.annotate(word, (vector[0], vector[1]), textcoords=\"offset points\", xytext=(0,10), ha='center')\n",
        "\n",
        "# Add labels and title\n",
        "plt.xlabel('Politics')\n",
        "plt.ylabel('Sports')\n",
        "plt.title('Sense Vectors of Words in Sports vs Politics Contexts')\n",
        "plt.grid(True)\n",
        "plt.show()\n"
      ],
      "metadata": {
        "colab": {
          "base_uri": "https://localhost:8080/",
          "height": 600
        },
        "id": "C8uPHOwaZc_b",
        "outputId": "2880f9d8-95ed-434c-a67a-e6b8137d7f5b"
      },
      "execution_count": 76,
      "outputs": [
        {
          "output_type": "display_data",
          "data": {
            "text/plain": [
              "<Figure size 1500x700 with 1 Axes>"
            ],
            "image/png": "[encoded data removed]"
          },
          "metadata": {}
        }
      ]
    }
  ]
}