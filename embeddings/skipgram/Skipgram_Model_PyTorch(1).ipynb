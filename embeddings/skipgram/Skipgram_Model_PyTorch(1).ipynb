{
  "nbformat": 4,
  "nbformat_minor": 0,
  "metadata": {
    "colab": {
      "provenance": [],
      "gpuType": "T4"
    },
    "kernelspec": {
      "name": "python3",
      "display_name": "Python 3"
    },
    "language_info": {
      "name": "python"
    },
    "accelerator": "GPU"
  },
  "cells": [
    {
      "cell_type": "code",
      "execution_count": 1,
      "metadata": {
        "id": "XskT2MzmbrRm"
      },
      "outputs": [],
      "source": [
        "import torch\n",
        "import torch.nn as nn\n",
        "import torch.optim as optim\n",
        "from torch.utils.data import DataLoader, Dataset\n",
        "from collections import Counter\n",
        "import random\n",
        "from sklearn.manifold import TSNE\n",
        "import matplotlib.pyplot as plt\n",
        "import numpy as np"
      ]
    },
    {
      "cell_type": "code",
      "source": [
        "# Check if GPU is available\n",
        "device = torch.device('cuda' if torch.cuda.is_available() else 'cpu')"
      ],
      "metadata": {
        "id": "Ba1I-JsrkTpD"
      },
      "execution_count": 2,
      "outputs": []
    },
    {
      "cell_type": "code",
      "source": [
        "import requests\n",
        "# Step 1: Preprocess Text Data\n",
        "tiny_shakes_url = 'https://raw.githubusercontent.com/karpathy/char-rnn/master/data/tinyshakespeare/input.txt'\n",
        "# Fetch the content from the URL\n",
        "response = requests.get(tiny_shakes_url)\n",
        "\n",
        "# Check if the request was successful (status code 200)\n",
        "if response.status_code == 200:\n",
        "    # Read the content as text\n",
        "    corpus = response.text\n",
        "sentences = corpus.split('\\n')\n",
        "# Remove empty strings from the list\n",
        "corpus = [sentence for sentence in sentences if sentence.strip()]"
      ],
      "metadata": {
        "id": "MgMI27cyefYV"
      },
      "execution_count": 35,
      "outputs": []
    },
    {
      "cell_type": "code",
      "source": [
        "corpus[:10]"
      ],
      "metadata": {
        "colab": {
          "base_uri": "https://localhost:8080/"
        },
        "id": "c46r9MaStCIK",
        "outputId": "6d115f8b-3c79-4887-fe0e-0ec686a254b6"
      },
      "execution_count": 36,
      "outputs": [
        {
          "output_type": "execute_result",
          "data": {
            "text/plain": [
              "['First Citizen:',\n",
              " 'Before we proceed any further, hear me speak.',\n",
              " 'All:',\n",
              " 'Speak, speak.',\n",
              " 'First Citizen:',\n",
              " 'You are all resolved rather to die than to famish?',\n",
              " 'All:',\n",
              " 'Resolved. resolved.',\n",
              " 'First Citizen:',\n",
              " 'First, you know Caius Marcius is chief enemy to the people.']"
            ]
          },
          "metadata": {},
          "execution_count": 36
        }
      ]
    },
    {
      "cell_type": "code",
      "source": [
        "import nltk\n",
        "from nltk.tokenize import word_tokenize\n",
        "from collections import Counter\n",
        "import string\n",
        "# Download NLTK punkt tokenizer if not already downloaded\n",
        "nltk.download('punkt')\n",
        "\n",
        "tokenized_sentences = []\n",
        "\n",
        "# Tokenize sentences and update word counts\n",
        "word_counts = Counter()\n",
        "for sentence in sentences:\n",
        "    tokens = word_tokenize(sentence)  # Tokenize sentence using NLTK's word tokenizer\n",
        "    # Remove punctuations from tokens\n",
        "    tokens = [word for word in tokens if word not in string.punctuation]\n",
        "    if len(tokens) > 0:\n",
        "      tokenized_sentences.append(tokens)  # Append tokenized sentence to the list\n",
        "    word_counts.update(tokens)\n",
        "\n",
        "# Extract vocabulary from word counts\n",
        "vocab = [word for word, _ in word_counts.most_common()]\n",
        "\n",
        "# Create word-to-index mapping\n",
        "word_to_index = {word: idx for idx, word in enumerate(vocab)}\n",
        "\n",
        "# Create index-to-word mapping\n",
        "index_to_word = {idx: word for word, idx in word_to_index.items()}\n",
        "\n",
        "# Determine vocabulary size\n",
        "vocab_size = len(vocab)\n"
      ],
      "metadata": {
        "colab": {
          "base_uri": "https://localhost:8080/"
        },
        "id": "Mt4LR3cheiWd",
        "outputId": "023addf7-42f1-4955-a5c7-95e2c5cbafaa"
      },
      "execution_count": 43,
      "outputs": [
        {
          "output_type": "stream",
          "name": "stderr",
          "text": [
            "[nltk_data] Downloading package punkt to /root/nltk_data...\n",
            "[nltk_data]   Package punkt is already up-to-date!\n"
          ]
        }
      ]
    },
    {
      "cell_type": "code",
      "source": [
        "corpus = tokenized_sentences"
      ],
      "metadata": {
        "id": "D5u7WJ_0yto3"
      },
      "execution_count": 44,
      "outputs": []
    },
    {
      "cell_type": "code",
      "source": [
        "corpus[:10]"
      ],
      "metadata": {
        "colab": {
          "base_uri": "https://localhost:8080/"
        },
        "id": "QB70qMXDtvxl",
        "outputId": "42c68078-68d8-455d-e9ae-ba846cde54b0"
      },
      "execution_count": 45,
      "outputs": [
        {
          "output_type": "execute_result",
          "data": {
            "text/plain": [
              "[['First', 'Citizen'],\n",
              " ['Before', 'we', 'proceed', 'any', 'further', 'hear', 'me', 'speak'],\n",
              " ['All'],\n",
              " ['Speak', 'speak'],\n",
              " ['First', 'Citizen'],\n",
              " ['You',\n",
              "  'are',\n",
              "  'all',\n",
              "  'resolved',\n",
              "  'rather',\n",
              "  'to',\n",
              "  'die',\n",
              "  'than',\n",
              "  'to',\n",
              "  'famish'],\n",
              " ['All'],\n",
              " ['Resolved', 'resolved'],\n",
              " ['First', 'Citizen'],\n",
              " ['First',\n",
              "  'you',\n",
              "  'know',\n",
              "  'Caius',\n",
              "  'Marcius',\n",
              "  'is',\n",
              "  'chief',\n",
              "  'enemy',\n",
              "  'to',\n",
              "  'the',\n",
              "  'people']]"
            ]
          },
          "metadata": {},
          "execution_count": 45
        }
      ]
    },
    {
      "cell_type": "code",
      "source": [
        "class SkipgramDataset(Dataset):\n",
        "    def __init__(self, corpus, word_to_index, window_size=2, num_negative_samples=5):\n",
        "        self.corpus = corpus\n",
        "        self.window_size = window_size\n",
        "        self.num_negative_samples = num_negative_samples\n",
        "        self.word_to_index = word_to_index\n",
        "        self.data = self.generate_skipgrams()\n",
        "\n",
        "    def generate_skipgrams(self):\n",
        "        data = []\n",
        "        for sentence in self.corpus:\n",
        "            for i, target_word in enumerate(sentence):\n",
        "                context = sentence[max(0, i - self.window_size):i] + sentence[i + 1:i + self.window_size + 1]\n",
        "                for context_word in context:\n",
        "                    data.append((self.word_to_index[target_word], self.word_to_index[context_word]))\n",
        "        return data\n",
        "\n",
        "    def __len__(self):\n",
        "        return len(self.data)\n",
        "\n",
        "    def __getitem__(self, idx):\n",
        "        target_word, context_word = self.data[idx]\n",
        "        negative_samples = self.generate_negative_samples(target_word)\n",
        "        return target_word, context_word, torch.tensor(negative_samples)\n",
        "\n",
        "    def generate_negative_samples(self, target_word):\n",
        "      vocab_size = len(self.word_to_index)\n",
        "      negative_samples = []\n",
        "      while len(negative_samples) < self.num_negative_samples:\n",
        "          sample = np.random.randint(0, vocab_size)\n",
        "          if sample != target_word and sample not in negative_samples:\n",
        "              negative_samples.append(sample)\n",
        "      return negative_samples"
      ],
      "metadata": {
        "id": "ITvgZLPne4oP"
      },
      "execution_count": 50,
      "outputs": []
    },
    {
      "cell_type": "code",
      "source": [
        "# Step 3: Define Skipgram Model\n",
        "class Skipgram(nn.Module):\n",
        "    def __init__(self, vocab_size, embedding_dim):\n",
        "        super(Skipgram, self).__init__()\n",
        "        self.embeddings = nn.Embedding(vocab_size, embedding_dim)\n",
        "        self.linear = nn.Linear(embedding_dim, vocab_size)\n",
        "\n",
        "    def forward(self, target_word):\n",
        "        embeds = self.embeddings(target_word)\n",
        "        output = self.linear(embeds)\n",
        "        return output"
      ],
      "metadata": {
        "id": "Yw086LWZe9yX"
      },
      "execution_count": 51,
      "outputs": []
    },
    {
      "cell_type": "code",
      "source": [
        "# Create dataset and dataloader\n",
        "dataset = SkipgramDataset(corpus, word_to_index, window_size=4, num_negative_samples=5)\n",
        "dataloader = DataLoader(dataset, batch_size=128, shuffle=True)\n",
        "\n",
        "# Iterate through the dataset and print samples\n",
        "for i, sample in enumerate(dataset):\n",
        "    if i >= 20:  # Print only the first 10 samples for demonstration\n",
        "        break\n",
        "    print(f\"Sample {i+1}: Target Word Index - {sample[0]}, Context Word Index - {sample[1]}\")"
      ],
      "metadata": {
        "colab": {
          "base_uri": "https://localhost:8080/"
        },
        "id": "_G4klgnuflTW",
        "outputId": "5a889c29-a28d-4452-ad5c-e5ef0a51d79a"
      },
      "execution_count": 47,
      "outputs": [
        {
          "output_type": "stream",
          "name": "stdout",
          "text": [
            "Sample 1: Target Word Index - 123, Context Word Index - 302\n",
            "Sample 2: Target Word Index - 302, Context Word Index - 123\n",
            "Sample 3: Target Word Index - 821, Context Word Index - 39\n",
            "Sample 4: Target Word Index - 821, Context Word Index - 1560\n",
            "Sample 5: Target Word Index - 821, Context Word Index - 161\n",
            "Sample 6: Target Word Index - 821, Context Word Index - 770\n",
            "Sample 7: Target Word Index - 39, Context Word Index - 821\n",
            "Sample 8: Target Word Index - 39, Context Word Index - 1560\n",
            "Sample 9: Target Word Index - 39, Context Word Index - 161\n",
            "Sample 10: Target Word Index - 39, Context Word Index - 770\n",
            "Sample 11: Target Word Index - 39, Context Word Index - 145\n",
            "Sample 12: Target Word Index - 1560, Context Word Index - 821\n",
            "Sample 13: Target Word Index - 1560, Context Word Index - 39\n",
            "Sample 14: Target Word Index - 1560, Context Word Index - 161\n",
            "Sample 15: Target Word Index - 1560, Context Word Index - 770\n",
            "Sample 16: Target Word Index - 1560, Context Word Index - 145\n",
            "Sample 17: Target Word Index - 1560, Context Word Index - 14\n",
            "Sample 18: Target Word Index - 161, Context Word Index - 821\n",
            "Sample 19: Target Word Index - 161, Context Word Index - 39\n",
            "Sample 20: Target Word Index - 161, Context Word Index - 1560\n"
          ]
        }
      ]
    },
    {
      "cell_type": "code",
      "source": [
        "# Hyperparameters\n",
        "window_size = 2\n",
        "num_negative_samples = 5\n",
        "embedding_dim = 100\n",
        "learning_rate = 0.001\n",
        "num_epochs = 10\n",
        "batch_size = 128\n",
        "\n",
        "# Initialize model and optimizer\n",
        "model = Skipgram(vocab_size, embedding_dim)\n",
        "model.to(device)\n",
        "criterion = nn.CrossEntropyLoss()\n",
        "optimizer = optim.Adam(model.parameters(), lr=learning_rate)\n",
        "\n",
        "# Create dataset and data loader\n",
        "num_negative_samples = 5  # Set your desired number of negative samples\n",
        "dataset = SkipgramDataset(corpus, word_to_index, window_size, num_negative_samples)\n",
        "dataloader = DataLoader(dataset, batch_size=batch_size, shuffle=True)\n",
        "\n",
        "# Training loop\n",
        "for epoch in range(num_epochs):\n",
        "    running_loss = 0.0\n",
        "    for target_word, context_word, negative_samples in dataloader:\n",
        "        optimizer.zero_grad()\n",
        "        target_word, context_word, negative_samples = target_word.to(device), context_word.to(device), negative_samples.to(device)\n",
        "\n",
        "        # Positive examples\n",
        "        positive_scores = model(target_word)\n",
        "        positive_loss = criterion(positive_scores, context_word)\n",
        "\n",
        "        # Negative examples\n",
        "        negative_scores = model(negative_samples)\n",
        "        negative_loss = criterion(negative_scores, torch.zeros_like(negative_scores))\n",
        "\n",
        "\n",
        "        # Total loss\n",
        "        loss = positive_loss + negative_loss\n",
        "\n",
        "        loss.backward()\n",
        "        optimizer.step()\n",
        "\n",
        "        running_loss += loss.item()\n",
        "\n",
        "    print(f\"Epoch {epoch+1}, Loss: {running_loss / len(dataloader)}\")"
      ],
      "metadata": {
        "colab": {
          "base_uri": "https://localhost:8080/"
        },
        "id": "LeD1afoee7xC",
        "outputId": "b5d17a4d-478e-490b-897f-8030faf9db68"
      },
      "execution_count": 54,
      "outputs": [
        {
          "output_type": "stream",
          "name": "stdout",
          "text": [
            "Epoch 1, Loss: 7.212985228111969\n",
            "Epoch 2, Loss: 6.503054898660586\n",
            "Epoch 3, Loss: 6.326450060796019\n",
            "Epoch 4, Loss: 6.214675574147635\n",
            "Epoch 5, Loss: 6.132941687229982\n",
            "Epoch 6, Loss: 6.067514708078068\n",
            "Epoch 7, Loss: 6.014531910372196\n",
            "Epoch 8, Loss: 5.9683754872368215\n",
            "Epoch 9, Loss: 5.928489197444386\n",
            "Epoch 10, Loss: 5.892484488041036\n"
          ]
        }
      ]
    },
    {
      "cell_type": "code",
      "source": [
        "# Step 5: Extract Word Embeddings\n",
        "word_embeddings = model.embeddings.weight.data.cpu().numpy()\n",
        "# Visualize word embeddings\n",
        "# Run t-SNE and visualize the embeddings\n",
        "tsne = TSNE(n_components=2, perplexity=10, random_state=42)\n",
        "embedding_tsne = tsne.fit_transform(word_embeddings)"
      ],
      "metadata": {
        "id": "3IW155vBkuxD"
      },
      "execution_count": null,
      "outputs": []
    },
    {
      "cell_type": "code",
      "source": [
        "n = 100\n",
        "# Visualize t-SNE plot\n",
        "fig, ax = plt.subplots()\n",
        "ax.scatter(embedding_tsne[:n, 0], embedding_tsne[:n, 1])\n",
        "\n",
        "# Annotate points with words\n",
        "for idx, word in index_to_word.items():\n",
        "    ax.annotate(word, (embedding_tsne[idx, 0], embedding_tsne[idx, 1]))\n",
        "    if idx > n:\n",
        "      break\n",
        "plt.show()"
      ],
      "metadata": {
        "colab": {
          "base_uri": "https://localhost:8080/",
          "height": 430
        },
        "id": "Cy0Aco4O8d-f",
        "outputId": "b4df8841-29b7-4ca4-90eb-1373616d1226"
      },
      "execution_count": 61,
      "outputs": [
        {
          "output_type": "display_data",
          "data": {
            "text/plain": [
              "<Figure size 640x480 with 1 Axes>"
            ],
            "image/png": "[encoded data removed]"
          },
          "metadata": {}
        }
      ]
    }
  ]
}